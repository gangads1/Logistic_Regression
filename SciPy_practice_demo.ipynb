{
 "cells": [
  {
   "cell_type": "code",
   "execution_count": 1,
   "id": "fb493139",
   "metadata": {},
   "outputs": [],
   "source": [
    "import numpy as np\n",
    "from scipy import linalg"
   ]
  },
  {
   "cell_type": "code",
   "execution_count": 3,
   "id": "6f6a254d",
   "metadata": {},
   "outputs": [],
   "source": [
    "# x+y = 30\n",
    "# (4x+9y) = 150\n",
    "\n",
    "testQuestionVariable = np.array([[1,1],[4,9]])\n",
    "testQuestionValue = np.array([30,150])"
   ]
  },
  {
   "cell_type": "code",
   "execution_count": 4,
   "id": "e8d9bd3b",
   "metadata": {},
   "outputs": [
    {
     "data": {
      "text/plain": [
       "array([24.,  6.])"
      ]
     },
     "execution_count": 4,
     "metadata": {},
     "output_type": "execute_result"
    }
   ],
   "source": [
    "# use solve method to solve the linear equation and find value for x & y\n",
    "\n",
    "linalg.solve(testQuestionVariable,testQuestionValue)"
   ]
  },
  {
   "cell_type": "code",
   "execution_count": 5,
   "id": "477bde85",
   "metadata": {},
   "outputs": [
    {
     "data": {
      "text/plain": [
       "-7.0"
      ]
     },
     "execution_count": 5,
     "metadata": {},
     "output_type": "execute_result"
    }
   ],
   "source": [
    "two_d_array = np.array([[4,5],[3,2]])\n",
    "linalg.det(two_d_array)"
   ]
  },
  {
   "cell_type": "code",
   "execution_count": 6,
   "id": "54231b8e",
   "metadata": {},
   "outputs": [],
   "source": [
    "from scipy import integrate"
   ]
  },
  {
   "cell_type": "code",
   "execution_count": 7,
   "id": "414e6756",
   "metadata": {},
   "outputs": [
    {
     "name": "stdout",
     "output_type": "stream",
     "text": [
      "(0.33333333333333337, 3.700743415417189e-15)\n"
     ]
    }
   ],
   "source": [
    "integration = integrate.quad(lambda x : x**2, 0, 1)\n",
    "print(integration)"
   ]
  },
  {
   "cell_type": "code",
   "execution_count": 8,
   "id": "f3ad8944",
   "metadata": {},
   "outputs": [
    {
     "name": "stdout",
     "output_type": "stream",
     "text": [
      "0.33333333333333337\n"
     ]
    }
   ],
   "source": [
    "integration = integrate.quad(lambda x : x**2, 0, 1)[0]\n",
    "print(integration)"
   ]
  },
  {
   "cell_type": "code",
   "execution_count": null,
   "id": "d9e27d79",
   "metadata": {},
   "outputs": [],
   "source": []
  }
 ],
 "metadata": {
  "kernelspec": {
   "display_name": "Python 3 (ipykernel)",
   "language": "python",
   "name": "python3"
  },
  "language_info": {
   "codemirror_mode": {
    "name": "ipython",
    "version": 3
   },
   "file_extension": ".py",
   "mimetype": "text/x-python",
   "name": "python",
   "nbconvert_exporter": "python",
   "pygments_lexer": "ipython3",
   "version": "3.9.12"
  }
 },
 "nbformat": 4,
 "nbformat_minor": 5
}
